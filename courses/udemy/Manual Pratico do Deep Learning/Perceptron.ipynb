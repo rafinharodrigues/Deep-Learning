{
 "cells": [
  {
   "cell_type": "markdown",
   "id": "242c548b-2e05-4c68-87a6-3d22b8d444d8",
   "metadata": {},
   "source": [
    "# The objective of this notebook is to implement a Perceptron"
   ]
  },
  {
   "cell_type": "code",
   "execution_count": 255,
   "id": "fb3aa085-efdd-4c63-9401-d19b9b8ac3f9",
   "metadata": {},
   "outputs": [],
   "source": [
    "from random import random\n",
    "import numpy as np"
   ]
  },
  {
   "cell_type": "markdown",
   "id": "af7683de-15dc-4e2e-acb8-ca734f018c60",
   "metadata": {},
   "source": [
    "### Building a Perceptron to predict the AND "
   ]
  },
  {
   "cell_type": "code",
   "execution_count": 256,
   "id": "1748af5a-f2af-4e04-a1f7-ad4e405c2bd3",
   "metadata": {},
   "outputs": [],
   "source": [
    "# Split the data into features and label\n",
    "X = np.array([[0, 0], [0, 1], [1, 0], [1, 1]])\n",
    "y = np.array([0, 0, 0, 1])"
   ]
  },
  {
   "cell_type": "code",
   "execution_count": 257,
   "id": "6f3055e5-de49-4b60-b409-22c0bad830ae",
   "metadata": {},
   "outputs": [
    {
     "data": {
      "text/plain": [
       "array([[0, 0],\n",
       "       [0, 1],\n",
       "       [1, 0],\n",
       "       [1, 1]])"
      ]
     },
     "execution_count": 257,
     "metadata": {},
     "output_type": "execute_result"
    }
   ],
   "source": [
    "X"
   ]
  },
  {
   "cell_type": "code",
   "execution_count": 258,
   "id": "3b4fe3b5-885f-4f8b-a698-e20d4d79a8c6",
   "metadata": {},
   "outputs": [
    {
     "data": {
      "text/plain": [
       "array([0, 0, 0, 1])"
      ]
     },
     "execution_count": 258,
     "metadata": {},
     "output_type": "execute_result"
    }
   ],
   "source": [
    "y"
   ]
  },
  {
   "cell_type": "code",
   "execution_count": 259,
   "id": "ab2395eb-44dc-48bb-8777-04a736d544ee",
   "metadata": {},
   "outputs": [],
   "source": [
    "# Initialize the weight and bias with random numbers\n",
    "D = X.shape[1]\n",
    "w = [2*random()-1 for i in range(D)]\n",
    "b = 2*random()-1\n",
    "learning_rate = 1.0\n",
    "epochs = 101"
   ]
  },
  {
   "cell_type": "code",
   "execution_count": 260,
   "id": "39e35402-4c75-40b1-abc3-69bacd5f21ca",
   "metadata": {},
   "outputs": [
    {
     "name": "stdout",
     "output_type": "stream",
     "text": [
      "0 2 [0.8981550960628657, 1.149045159888619]\n",
      "10 0 [1.8981550960628657, 0.1490451598886191]\n",
      "20 0 [1.8981550960628657, 0.1490451598886191]\n",
      "30 0 [1.8981550960628657, 0.1490451598886191]\n",
      "40 0 [1.8981550960628657, 0.1490451598886191]\n",
      "50 0 [1.8981550960628657, 0.1490451598886191]\n",
      "60 0 [1.8981550960628657, 0.1490451598886191]\n",
      "70 0 [1.8981550960628657, 0.1490451598886191]\n",
      "80 0 [1.8981550960628657, 0.1490451598886191]\n",
      "90 0 [1.8981550960628657, 0.1490451598886191]\n",
      "100 0 [1.8981550960628657, 0.1490451598886191]\n",
      "\n",
      "w: [1.8981550960628657, 0.1490451598886191]\n",
      "b:-1.970926676435431\n"
     ]
    }
   ],
   "source": [
    "for epoch in range(epochs):\n",
    "    cost = 0\n",
    "    for Xn, yn in zip(X, y):\n",
    "        # First step: Multiply each feature to it's weight, sum the results and then sum the result with bias\n",
    "        y_pred = sum([xi*wi for xi, wi in zip(Xn, w)]) + b\n",
    "    \n",
    "        # Second step: Use the activation funtion (step function)\n",
    "        y_pred = 1 if y_pred > 0 else 0\n",
    "    \n",
    "        # Third step: Calculate the error\n",
    "        error = yn - y_pred\n",
    "    \n",
    "        # Fourth step: Update the weight's\n",
    "        w = [wi+learning_rate*error*xi for xi, wi in zip(Xn,w)]\n",
    "        b = b + learning_rate*error\n",
    "        cost += error**2\n",
    "\n",
    "    # Print the epoch and cost every 10 epochs\n",
    "    if epoch % 10 == 0:\n",
    "        print(epoch, cost, w)\n",
    "print(f'\\nw: {w}\\nb:{b}')"
   ]
  },
  {
   "cell_type": "code",
   "execution_count": null,
   "id": "844f5db4-809c-4f83-8ccc-c5742fbcc54a",
   "metadata": {},
   "outputs": [],
   "source": []
  }
 ],
 "metadata": {
  "kernelspec": {
   "display_name": "Python 3 (ipykernel)",
   "language": "python",
   "name": "python3"
  },
  "language_info": {
   "codemirror_mode": {
    "name": "ipython",
    "version": 3
   },
   "file_extension": ".py",
   "mimetype": "text/x-python",
   "name": "python",
   "nbconvert_exporter": "python",
   "pygments_lexer": "ipython3",
   "version": "3.11.10"
  }
 },
 "nbformat": 4,
 "nbformat_minor": 5
}
