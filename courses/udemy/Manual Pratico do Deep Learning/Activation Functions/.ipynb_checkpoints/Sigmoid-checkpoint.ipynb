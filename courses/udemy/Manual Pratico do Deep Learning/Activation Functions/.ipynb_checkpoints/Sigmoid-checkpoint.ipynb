{
 "cells": [
  {
   "cell_type": "code",
   "execution_count": 41,
   "id": "53d93601-3fe9-422d-a0a3-8f3e3259365b",
   "metadata": {},
   "outputs": [],
   "source": [
    "import numpy as np\n",
    "import pandas as pd"
   ]
  },
  {
   "cell_type": "markdown",
   "id": "d8284627-45e9-4bac-924c-03536d695188",
   "metadata": {},
   "source": [
    "### Example with a custom hight and weight dataset"
   ]
  },
  {
   "cell_type": "code",
   "execution_count": 42,
   "id": "5b8b19ec-ded5-4b62-b9d8-30e02e16438d",
   "metadata": {},
   "outputs": [
    {
     "data": {
      "text/html": [
       "<div>\n",
       "<style scoped>\n",
       "    .dataframe tbody tr th:only-of-type {\n",
       "        vertical-align: middle;\n",
       "    }\n",
       "\n",
       "    .dataframe tbody tr th {\n",
       "        vertical-align: top;\n",
       "    }\n",
       "\n",
       "    .dataframe thead th {\n",
       "        text-align: right;\n",
       "    }\n",
       "</style>\n",
       "<table border=\"1\" class=\"dataframe\">\n",
       "  <thead>\n",
       "    <tr style=\"text-align: right;\">\n",
       "      <th></th>\n",
       "      <th>Altura (cm)</th>\n",
       "      <th>Peso (kg)</th>\n",
       "    </tr>\n",
       "  </thead>\n",
       "  <tbody>\n",
       "    <tr>\n",
       "      <th>0</th>\n",
       "      <td>188</td>\n",
       "      <td>80.60</td>\n",
       "    </tr>\n",
       "    <tr>\n",
       "      <th>1</th>\n",
       "      <td>178</td>\n",
       "      <td>78.10</td>\n",
       "    </tr>\n",
       "    <tr>\n",
       "      <th>2</th>\n",
       "      <td>164</td>\n",
       "      <td>63.80</td>\n",
       "    </tr>\n",
       "    <tr>\n",
       "      <th>3</th>\n",
       "      <td>192</td>\n",
       "      <td>87.40</td>\n",
       "    </tr>\n",
       "    <tr>\n",
       "      <th>4</th>\n",
       "      <td>157</td>\n",
       "      <td>67.65</td>\n",
       "    </tr>\n",
       "    <tr>\n",
       "      <th>...</th>\n",
       "      <td>...</td>\n",
       "      <td>...</td>\n",
       "    </tr>\n",
       "    <tr>\n",
       "      <th>95</th>\n",
       "      <td>190</td>\n",
       "      <td>91.50</td>\n",
       "    </tr>\n",
       "    <tr>\n",
       "      <th>96</th>\n",
       "      <td>178</td>\n",
       "      <td>86.10</td>\n",
       "    </tr>\n",
       "    <tr>\n",
       "      <th>97</th>\n",
       "      <td>164</td>\n",
       "      <td>64.80</td>\n",
       "    </tr>\n",
       "    <tr>\n",
       "      <th>98</th>\n",
       "      <td>194</td>\n",
       "      <td>78.30</td>\n",
       "    </tr>\n",
       "    <tr>\n",
       "      <th>99</th>\n",
       "      <td>150</td>\n",
       "      <td>61.50</td>\n",
       "    </tr>\n",
       "  </tbody>\n",
       "</table>\n",
       "<p>100 rows × 2 columns</p>\n",
       "</div>"
      ],
      "text/plain": [
       "    Altura (cm)  Peso (kg)\n",
       "0           188      80.60\n",
       "1           178      78.10\n",
       "2           164      63.80\n",
       "3           192      87.40\n",
       "4           157      67.65\n",
       "..          ...        ...\n",
       "95          190      91.50\n",
       "96          178      86.10\n",
       "97          164      64.80\n",
       "98          194      78.30\n",
       "99          150      61.50\n",
       "\n",
       "[100 rows x 2 columns]"
      ]
     },
     "execution_count": 42,
     "metadata": {},
     "output_type": "execute_result"
    }
   ],
   "source": [
    "data = pd.read_csv('altura_peso_dataset.csv')\n",
    "data"
   ]
  },
  {
   "cell_type": "code",
   "execution_count": 43,
   "id": "4bf6d6c8-ea55-474a-b611-c6fc61f8d24a",
   "metadata": {},
   "outputs": [],
   "source": [
    "# Splitting the data into Features and Label\n",
    "X = data['Altura (cm)'].values\n",
    "y = data['Peso (kg)']"
   ]
  },
  {
   "cell_type": "code",
   "execution_count": 44,
   "id": "b7afe3e7-79c1-4724-b1a7-94715e6062d4",
   "metadata": {},
   "outputs": [
    {
     "data": {
      "text/plain": [
       "array([188, 178, 164, 192, 157, 170, 188, 168, 172, 160, 160, 173, 185,\n",
       "       189, 173, 152, 171, 151, 173, 193, 179, 187, 151, 170, 182, 161,\n",
       "       171, 193, 174, 198, 176, 191, 177, 165, 164, 196, 200, 193, 152,\n",
       "       186, 200, 156, 170, 158, 188, 167, 153, 174, 163, 199, 158, 175,\n",
       "       151, 169, 177, 196, 156, 193, 157, 196, 184, 163, 166, 185, 199,\n",
       "       189, 153, 151, 155, 191, 153, 178, 167, 175, 193, 183, 159, 185,\n",
       "       163, 180, 197, 164, 157, 163, 172, 189, 170, 165, 194, 167, 196,\n",
       "       173, 175, 174, 194, 190, 178, 164, 194, 150], dtype=int64)"
      ]
     },
     "execution_count": 44,
     "metadata": {},
     "output_type": "execute_result"
    }
   ],
   "source": [
    "X"
   ]
  },
  {
   "cell_type": "code",
   "execution_count": 45,
   "id": "c9f52387-8744-47a7-8c66-ddff87f42240",
   "metadata": {},
   "outputs": [
    {
     "data": {
      "text/plain": [
       "0     80.60\n",
       "1     78.10\n",
       "2     63.80\n",
       "3     87.40\n",
       "4     67.65\n",
       "      ...  \n",
       "95    91.50\n",
       "96    86.10\n",
       "97    64.80\n",
       "98    78.30\n",
       "99    61.50\n",
       "Name: Peso (kg), Length: 100, dtype: float64"
      ]
     },
     "execution_count": 45,
     "metadata": {},
     "output_type": "execute_result"
    }
   ],
   "source": [
    "y"
   ]
  },
  {
   "cell_type": "code",
   "execution_count": 46,
   "id": "a2eef572-3910-4b37-a58c-5ef1d9fc0abc",
   "metadata": {
    "scrolled": true
   },
   "outputs": [
    {
     "data": {
      "text/plain": [
       "array([[ 0.52],\n",
       "       [ 0.12],\n",
       "       [-0.44],\n",
       "       [ 0.68],\n",
       "       [-0.72],\n",
       "       [-0.2 ],\n",
       "       [ 0.52],\n",
       "       [-0.28],\n",
       "       [-0.12],\n",
       "       [-0.6 ],\n",
       "       [-0.6 ],\n",
       "       [-0.08],\n",
       "       [ 0.4 ],\n",
       "       [ 0.56],\n",
       "       [-0.08],\n",
       "       [-0.92],\n",
       "       [-0.16],\n",
       "       [-0.96],\n",
       "       [-0.08],\n",
       "       [ 0.72],\n",
       "       [ 0.16],\n",
       "       [ 0.48],\n",
       "       [-0.96],\n",
       "       [-0.2 ],\n",
       "       [ 0.28],\n",
       "       [-0.56],\n",
       "       [-0.16],\n",
       "       [ 0.72],\n",
       "       [-0.04],\n",
       "       [ 0.92],\n",
       "       [ 0.04],\n",
       "       [ 0.64],\n",
       "       [ 0.08],\n",
       "       [-0.4 ],\n",
       "       [-0.44],\n",
       "       [ 0.84],\n",
       "       [ 1.  ],\n",
       "       [ 0.72],\n",
       "       [-0.92],\n",
       "       [ 0.44],\n",
       "       [ 1.  ],\n",
       "       [-0.76],\n",
       "       [-0.2 ],\n",
       "       [-0.68],\n",
       "       [ 0.52],\n",
       "       [-0.32],\n",
       "       [-0.88],\n",
       "       [-0.04],\n",
       "       [-0.48],\n",
       "       [ 0.96],\n",
       "       [-0.68],\n",
       "       [ 0.  ],\n",
       "       [-0.96],\n",
       "       [-0.24],\n",
       "       [ 0.08],\n",
       "       [ 0.84],\n",
       "       [-0.76],\n",
       "       [ 0.72],\n",
       "       [-0.72],\n",
       "       [ 0.84],\n",
       "       [ 0.36],\n",
       "       [-0.48],\n",
       "       [-0.36],\n",
       "       [ 0.4 ],\n",
       "       [ 0.96],\n",
       "       [ 0.56],\n",
       "       [-0.88],\n",
       "       [-0.96],\n",
       "       [-0.8 ],\n",
       "       [ 0.64],\n",
       "       [-0.88],\n",
       "       [ 0.12],\n",
       "       [-0.32],\n",
       "       [ 0.  ],\n",
       "       [ 0.72],\n",
       "       [ 0.32],\n",
       "       [-0.64],\n",
       "       [ 0.4 ],\n",
       "       [-0.48],\n",
       "       [ 0.2 ],\n",
       "       [ 0.88],\n",
       "       [-0.44],\n",
       "       [-0.72],\n",
       "       [-0.48],\n",
       "       [-0.12],\n",
       "       [ 0.56],\n",
       "       [-0.2 ],\n",
       "       [-0.4 ],\n",
       "       [ 0.76],\n",
       "       [-0.32],\n",
       "       [ 0.84],\n",
       "       [-0.08],\n",
       "       [ 0.  ],\n",
       "       [-0.04],\n",
       "       [ 0.76],\n",
       "       [ 0.6 ],\n",
       "       [ 0.12],\n",
       "       [-0.44],\n",
       "       [ 0.76],\n",
       "       [-1.  ]])"
      ]
     },
     "execution_count": 46,
     "metadata": {},
     "output_type": "execute_result"
    }
   ],
   "source": [
    "# Normalizing the Feature data\n",
    "from sklearn.preprocessing import MinMaxScaler\n",
    "scaler = MinMaxScaler((-1, 1))\n",
    "X_scaled = scaler.fit_transform(X.reshape(-1,1))\n",
    "X_scaled"
   ]
  },
  {
   "cell_type": "code",
   "execution_count": 47,
   "id": "bfa4c458-4347-45e8-b68c-da5a320e3f95",
   "metadata": {},
   "outputs": [],
   "source": [
    "# The Sigmoid Activation Function\n",
    "def sigmoid(x, derivate=False):\n",
    "    if derivate:\n",
    "        y = sigmoid(x)\n",
    "        return y * (1 - y)\n",
    "    return (1 / (1 + np.exp(-x)))"
   ]
  },
  {
   "cell_type": "code",
   "execution_count": 48,
   "id": "3cb59b75-7340-4905-8a57-2d91a2a07cf3",
   "metadata": {},
   "outputs": [],
   "source": [
    "# D=Dimensions; w=weights; b=bias; lr=learning rate\n",
    "D = X_scaled.shape[1] or 1\n",
    "w = 2*np.random.random(size=D)-1\n",
    "b = 2*np.random.random()-1\n",
    "lr = 1e-2\n",
    "\n",
    "epochs = 2000"
   ]
  },
  {
   "cell_type": "code",
   "execution_count": 49,
   "id": "be710556-97b4-4bdb-8953-415e93397f95",
   "metadata": {},
   "outputs": [
    {
     "name": "stdout",
     "output_type": "stream",
     "text": [
      "Epoch: 0 Cost: [603222.12249999]\n",
      "Epoch: 100 Cost: [603222.1225]\n",
      "Epoch: 200 Cost: [603222.1225]\n",
      "Epoch: 300 Cost: [603222.1225]\n",
      "Epoch: 400 Cost: [603222.1225]\n",
      "Epoch: 500 Cost: [603222.1225]\n",
      "Epoch: 600 Cost: [603222.1225]\n",
      "Epoch: 700 Cost: [603222.1225]\n",
      "Epoch: 800 Cost: [603222.1225]\n",
      "Epoch: 900 Cost: [603222.1225]\n",
      "Epoch: 1000 Cost: [603222.1225]\n",
      "Epoch: 1100 Cost: [603222.1225]\n",
      "Epoch: 1200 Cost: [603222.1225]\n",
      "Epoch: 1300 Cost: [603222.1225]\n",
      "Epoch: 1400 Cost: [603222.1225]\n",
      "Epoch: 1500 Cost: [603222.1225]\n",
      "Epoch: 1600 Cost: [603222.1225]\n",
      "Epoch: 1700 Cost: [603222.1225]\n",
      "Epoch: 1800 Cost: [603222.1225]\n",
      "Epoch: 1900 Cost: [603222.1225]\n",
      "W: [27167580.87583606]\n",
      "B: [154272.47854011]\n",
      "LR: 0.01\n"
     ]
    }
   ],
   "source": [
    "for epoch in range(epochs):\n",
    "    cost = 0\n",
    "    for x_n, y_n in zip(X, y):\n",
    "        y_pred = np.dot(x_n, w) + b\n",
    "        y_pred = sigmoid(y_pred,True)\n",
    "        error = y_n - y_pred\n",
    "        w = w + lr*np.dot(error, x_n)\n",
    "        b = b + error*lr\n",
    "        cost += error**2\n",
    "\n",
    "    if epoch%100 == 0:\n",
    "        print(f'Epoch: {epoch} Cost: {cost}')\n",
    "\n",
    "print(f'W: {w}')\n",
    "print(f'B: {b}')\n",
    "print(f'LR: {lr}')"
   ]
  },
  {
   "cell_type": "code",
   "execution_count": null,
   "id": "f6184330-11ba-49a0-9627-4f99ad07f4d9",
   "metadata": {},
   "outputs": [],
   "source": []
  }
 ],
 "metadata": {
  "kernelspec": {
   "display_name": "Python 3 (ipykernel)",
   "language": "python",
   "name": "python3"
  },
  "language_info": {
   "codemirror_mode": {
    "name": "ipython",
    "version": 3
   },
   "file_extension": ".py",
   "mimetype": "text/x-python",
   "name": "python",
   "nbconvert_exporter": "python",
   "pygments_lexer": "ipython3",
   "version": "3.11.10"
  }
 },
 "nbformat": 4,
 "nbformat_minor": 5
}
