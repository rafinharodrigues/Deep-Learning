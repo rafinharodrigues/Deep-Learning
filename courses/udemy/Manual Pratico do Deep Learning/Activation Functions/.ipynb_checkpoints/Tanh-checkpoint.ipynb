{
 "cells": [
  {
   "cell_type": "code",
   "execution_count": 90,
   "id": "b318d668-af46-4f52-b326-89c683abf5d1",
   "metadata": {},
   "outputs": [],
   "source": [
    "import numpy as np\n",
    "import pandas as pd"
   ]
  },
  {
   "cell_type": "markdown",
   "id": "cb5041e7-95a2-48ec-97e9-8f614a639522",
   "metadata": {},
   "source": [
    "### Example with a custom hight and weight dataset"
   ]
  },
  {
   "cell_type": "code",
   "execution_count": 91,
   "id": "7902601f-5d53-406a-a590-78a40f8be75d",
   "metadata": {},
   "outputs": [
    {
     "data": {
      "text/html": [
       "<div>\n",
       "<style scoped>\n",
       "    .dataframe tbody tr th:only-of-type {\n",
       "        vertical-align: middle;\n",
       "    }\n",
       "\n",
       "    .dataframe tbody tr th {\n",
       "        vertical-align: top;\n",
       "    }\n",
       "\n",
       "    .dataframe thead th {\n",
       "        text-align: right;\n",
       "    }\n",
       "</style>\n",
       "<table border=\"1\" class=\"dataframe\">\n",
       "  <thead>\n",
       "    <tr style=\"text-align: right;\">\n",
       "      <th></th>\n",
       "      <th>Altura (cm)</th>\n",
       "      <th>Peso (kg)</th>\n",
       "    </tr>\n",
       "  </thead>\n",
       "  <tbody>\n",
       "    <tr>\n",
       "      <th>0</th>\n",
       "      <td>188</td>\n",
       "      <td>80.60</td>\n",
       "    </tr>\n",
       "    <tr>\n",
       "      <th>1</th>\n",
       "      <td>178</td>\n",
       "      <td>78.10</td>\n",
       "    </tr>\n",
       "    <tr>\n",
       "      <th>2</th>\n",
       "      <td>164</td>\n",
       "      <td>63.80</td>\n",
       "    </tr>\n",
       "    <tr>\n",
       "      <th>3</th>\n",
       "      <td>192</td>\n",
       "      <td>87.40</td>\n",
       "    </tr>\n",
       "    <tr>\n",
       "      <th>4</th>\n",
       "      <td>157</td>\n",
       "      <td>67.65</td>\n",
       "    </tr>\n",
       "    <tr>\n",
       "      <th>...</th>\n",
       "      <td>...</td>\n",
       "      <td>...</td>\n",
       "    </tr>\n",
       "    <tr>\n",
       "      <th>95</th>\n",
       "      <td>190</td>\n",
       "      <td>91.50</td>\n",
       "    </tr>\n",
       "    <tr>\n",
       "      <th>96</th>\n",
       "      <td>178</td>\n",
       "      <td>86.10</td>\n",
       "    </tr>\n",
       "    <tr>\n",
       "      <th>97</th>\n",
       "      <td>164</td>\n",
       "      <td>64.80</td>\n",
       "    </tr>\n",
       "    <tr>\n",
       "      <th>98</th>\n",
       "      <td>194</td>\n",
       "      <td>78.30</td>\n",
       "    </tr>\n",
       "    <tr>\n",
       "      <th>99</th>\n",
       "      <td>150</td>\n",
       "      <td>61.50</td>\n",
       "    </tr>\n",
       "  </tbody>\n",
       "</table>\n",
       "<p>100 rows × 2 columns</p>\n",
       "</div>"
      ],
      "text/plain": [
       "    Altura (cm)  Peso (kg)\n",
       "0           188      80.60\n",
       "1           178      78.10\n",
       "2           164      63.80\n",
       "3           192      87.40\n",
       "4           157      67.65\n",
       "..          ...        ...\n",
       "95          190      91.50\n",
       "96          178      86.10\n",
       "97          164      64.80\n",
       "98          194      78.30\n",
       "99          150      61.50\n",
       "\n",
       "[100 rows x 2 columns]"
      ]
     },
     "execution_count": 91,
     "metadata": {},
     "output_type": "execute_result"
    }
   ],
   "source": [
    "data = pd.read_csv('altura_peso_dataset.csv')\n",
    "data"
   ]
  },
  {
   "cell_type": "code",
   "execution_count": 92,
   "id": "4435ff66-870a-467e-8d99-a8184b11cff6",
   "metadata": {},
   "outputs": [],
   "source": [
    "X = data.iloc[:,0].values\n",
    "y = data.iloc[:,1].values"
   ]
  },
  {
   "cell_type": "code",
   "execution_count": 93,
   "id": "d7486c88-38c0-4fa0-87b0-64b792820129",
   "metadata": {},
   "outputs": [
    {
     "data": {
      "text/plain": [
       "array([188, 178, 164, 192, 157, 170, 188, 168, 172, 160, 160, 173, 185,\n",
       "       189, 173, 152, 171, 151, 173, 193, 179, 187, 151, 170, 182, 161,\n",
       "       171, 193, 174, 198, 176, 191, 177, 165, 164, 196, 200, 193, 152,\n",
       "       186, 200, 156, 170, 158, 188, 167, 153, 174, 163, 199, 158, 175,\n",
       "       151, 169, 177, 196, 156, 193, 157, 196, 184, 163, 166, 185, 199,\n",
       "       189, 153, 151, 155, 191, 153, 178, 167, 175, 193, 183, 159, 185,\n",
       "       163, 180, 197, 164, 157, 163, 172, 189, 170, 165, 194, 167, 196,\n",
       "       173, 175, 174, 194, 190, 178, 164, 194, 150], dtype=int64)"
      ]
     },
     "execution_count": 93,
     "metadata": {},
     "output_type": "execute_result"
    }
   ],
   "source": [
    "X"
   ]
  },
  {
   "cell_type": "code",
   "execution_count": 94,
   "id": "f37da103-ccd5-4a7f-aca1-e88937f95201",
   "metadata": {},
   "outputs": [
    {
     "data": {
      "text/plain": [
       "array([80.6 , 78.1 , 63.8 , 87.4 , 67.65, 76.5 , 92.6 , 81.6 , 74.4 ,\n",
       "       64.  , 64.  , 67.85, 77.25, 84.05, 73.85, 66.4 , 72.95, 65.95,\n",
       "       74.85, 87.85, 71.55, 74.15, 72.95, 70.5 , 73.9 , 73.45, 73.95,\n",
       "       78.85, 68.3 , 81.1 , 73.2 , 89.95, 82.65, 66.25, 63.8 , 82.2 ,\n",
       "       93.  , 82.85, 66.4 , 87.7 , 94.  , 69.2 , 78.5 , 79.1 , 80.6 ,\n",
       "       81.15, 77.85, 71.3 , 67.35, 85.55, 73.1 , 82.75, 67.95, 69.05,\n",
       "       81.65, 84.2 , 78.2 , 77.85, 69.65, 90.2 , 92.8 , 68.35, 75.7 ,\n",
       "       84.25, 98.55, 85.05, 64.85, 57.95, 59.75, 94.95, 70.85, 78.1 ,\n",
       "       67.15, 74.75, 81.85, 79.35, 69.55, 77.25, 63.35, 89.  , 87.65,\n",
       "       74.8 , 74.65, 71.35, 86.4 , 91.05, 82.5 , 83.25, 88.3 , 71.15,\n",
       "       79.2 , 69.85, 84.75, 72.3 , 93.3 , 91.5 , 86.1 , 64.8 , 78.3 ,\n",
       "       61.5 ])"
      ]
     },
     "execution_count": 94,
     "metadata": {},
     "output_type": "execute_result"
    }
   ],
   "source": [
    "y"
   ]
  },
  {
   "cell_type": "code",
   "execution_count": 95,
   "id": "989d0703-5711-479b-8bbc-dacc1d643a65",
   "metadata": {},
   "outputs": [],
   "source": [
    "from sklearn.preprocessing import MinMaxScaler\n",
    "scaler = MinMaxScaler((-1,1))\n",
    "X_scaled = scaler.fit_transform(X.reshape(-1, 1))"
   ]
  },
  {
   "cell_type": "code",
   "execution_count": 96,
   "id": "fcbb1071-4f64-4fa3-8a1c-a6a4aaab3aa6",
   "metadata": {
    "scrolled": true
   },
   "outputs": [
    {
     "data": {
      "text/plain": [
       "array([[ 0.52],\n",
       "       [ 0.12],\n",
       "       [-0.44],\n",
       "       [ 0.68],\n",
       "       [-0.72],\n",
       "       [-0.2 ],\n",
       "       [ 0.52],\n",
       "       [-0.28],\n",
       "       [-0.12],\n",
       "       [-0.6 ],\n",
       "       [-0.6 ],\n",
       "       [-0.08],\n",
       "       [ 0.4 ],\n",
       "       [ 0.56],\n",
       "       [-0.08],\n",
       "       [-0.92],\n",
       "       [-0.16],\n",
       "       [-0.96],\n",
       "       [-0.08],\n",
       "       [ 0.72],\n",
       "       [ 0.16],\n",
       "       [ 0.48],\n",
       "       [-0.96],\n",
       "       [-0.2 ],\n",
       "       [ 0.28],\n",
       "       [-0.56],\n",
       "       [-0.16],\n",
       "       [ 0.72],\n",
       "       [-0.04],\n",
       "       [ 0.92],\n",
       "       [ 0.04],\n",
       "       [ 0.64],\n",
       "       [ 0.08],\n",
       "       [-0.4 ],\n",
       "       [-0.44],\n",
       "       [ 0.84],\n",
       "       [ 1.  ],\n",
       "       [ 0.72],\n",
       "       [-0.92],\n",
       "       [ 0.44],\n",
       "       [ 1.  ],\n",
       "       [-0.76],\n",
       "       [-0.2 ],\n",
       "       [-0.68],\n",
       "       [ 0.52],\n",
       "       [-0.32],\n",
       "       [-0.88],\n",
       "       [-0.04],\n",
       "       [-0.48],\n",
       "       [ 0.96],\n",
       "       [-0.68],\n",
       "       [ 0.  ],\n",
       "       [-0.96],\n",
       "       [-0.24],\n",
       "       [ 0.08],\n",
       "       [ 0.84],\n",
       "       [-0.76],\n",
       "       [ 0.72],\n",
       "       [-0.72],\n",
       "       [ 0.84],\n",
       "       [ 0.36],\n",
       "       [-0.48],\n",
       "       [-0.36],\n",
       "       [ 0.4 ],\n",
       "       [ 0.96],\n",
       "       [ 0.56],\n",
       "       [-0.88],\n",
       "       [-0.96],\n",
       "       [-0.8 ],\n",
       "       [ 0.64],\n",
       "       [-0.88],\n",
       "       [ 0.12],\n",
       "       [-0.32],\n",
       "       [ 0.  ],\n",
       "       [ 0.72],\n",
       "       [ 0.32],\n",
       "       [-0.64],\n",
       "       [ 0.4 ],\n",
       "       [-0.48],\n",
       "       [ 0.2 ],\n",
       "       [ 0.88],\n",
       "       [-0.44],\n",
       "       [-0.72],\n",
       "       [-0.48],\n",
       "       [-0.12],\n",
       "       [ 0.56],\n",
       "       [-0.2 ],\n",
       "       [-0.4 ],\n",
       "       [ 0.76],\n",
       "       [-0.32],\n",
       "       [ 0.84],\n",
       "       [-0.08],\n",
       "       [ 0.  ],\n",
       "       [-0.04],\n",
       "       [ 0.76],\n",
       "       [ 0.6 ],\n",
       "       [ 0.12],\n",
       "       [-0.44],\n",
       "       [ 0.76],\n",
       "       [-1.  ]])"
      ]
     },
     "execution_count": 96,
     "metadata": {},
     "output_type": "execute_result"
    }
   ],
   "source": [
    "X_scaled"
   ]
  },
  {
   "cell_type": "code",
   "execution_count": 97,
   "id": "90b0b2c4-7323-4de0-93df-98b8c2910453",
   "metadata": {},
   "outputs": [],
   "source": [
    "# Hyperbolic Tangent Activation Function\n",
    "# To avaoid numeric overflow, use np.tanh\n",
    "def tanh(x, derivate=False):\n",
    "    if derivate:\n",
    "        y = tanh(x)\n",
    "        return 1 - y**2\n",
    "    return (np.exp(x) - np.exp(-x)) / (np.exp(x) + np.exp(-x))"
   ]
  },
  {
   "cell_type": "code",
   "execution_count": 98,
   "id": "061bc8fe-674f-4b31-9005-1e96385b7ef9",
   "metadata": {},
   "outputs": [],
   "source": [
    "D = X_scaled.shape[1]\n",
    "w = 2*np.random.random(size=D)-1\n",
    "b = 2*np.random.random()-1\n",
    "lr = 1e-2\n",
    "epochs = 2000"
   ]
  },
  {
   "cell_type": "code",
   "execution_count": 99,
   "id": "670e7dd2-f9b7-49c8-b51f-8df5a3d30dd1",
   "metadata": {},
   "outputs": [
    {
     "name": "stdout",
     "output_type": "stream",
     "text": [
      "Epoch: 0 Cost: 588165.5579949532\n",
      "Epoch: 100 Cost: 587894.8225\n",
      "Epoch: 200 Cost: 587894.8225\n",
      "Epoch: 300 Cost: 587894.8225\n",
      "Epoch: 400 Cost: 587894.8225\n",
      "Epoch: 500 Cost: 587894.8225\n",
      "Epoch: 600 Cost: 587894.8225\n",
      "Epoch: 700 Cost: 587894.8225\n",
      "Epoch: 800 Cost: 587894.8225\n",
      "Epoch: 900 Cost: 587894.8225\n",
      "Epoch: 1000 Cost: 587894.8225\n",
      "Epoch: 1100 Cost: 587894.8225\n",
      "Epoch: 1200 Cost: 587894.8225\n",
      "Epoch: 1300 Cost: 587894.8225\n",
      "Epoch: 1400 Cost: 587894.8225\n",
      "Epoch: 1500 Cost: 587894.8225\n",
      "Epoch: 1600 Cost: 587894.8225\n",
      "Epoch: 1700 Cost: 587894.8225\n",
      "Epoch: 1800 Cost: 587894.8225\n",
      "Epoch: 1900 Cost: 587894.8225\n",
      "W: [6810.26276791]\n",
      "B: 152272.98004643212\n",
      "LR: 0.01\n"
     ]
    }
   ],
   "source": [
    "for epoch in range(epochs):\n",
    "    cost = 0\n",
    "    for x_n, y_n in zip(X_scaled, y):\n",
    "        y_pred = np.dot(x_n, w) + b\n",
    "        y_pred = np.tanh(y_pred)\n",
    "        error = y_n - y_pred\n",
    "        w = w + lr*np.dot(error, x_n)\n",
    "        b = b + error*lr\n",
    "        cost += error**2\n",
    "\n",
    "    if epoch%100 == 0:\n",
    "        print(f'Epoch: {epoch} Cost: {cost}')\n",
    "\n",
    "print(f'W: {w}')\n",
    "print(f'B: {b}')\n",
    "print(f'LR: {lr}')"
   ]
  }
 ],
 "metadata": {
  "kernelspec": {
   "display_name": "Python 3 (ipykernel)",
   "language": "python",
   "name": "python3"
  },
  "language_info": {
   "codemirror_mode": {
    "name": "ipython",
    "version": 3
   },
   "file_extension": ".py",
   "mimetype": "text/x-python",
   "name": "python",
   "nbconvert_exporter": "python",
   "pygments_lexer": "ipython3",
   "version": "3.11.10"
  }
 },
 "nbformat": 4,
 "nbformat_minor": 5
}
