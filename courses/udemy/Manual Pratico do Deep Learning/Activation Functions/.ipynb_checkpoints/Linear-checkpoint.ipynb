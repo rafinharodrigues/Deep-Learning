{
 "cells": [
  {
   "cell_type": "code",
   "execution_count": 1,
   "id": "515fb970-6d7a-4864-a5af-a270ce90638e",
   "metadata": {},
   "outputs": [],
   "source": [
    "import numpy as np"
   ]
  },
  {
   "cell_type": "markdown",
   "id": "c24d3a6f-538e-41bc-9ab0-192c3011c6dd",
   "metadata": {},
   "source": [
    "### Example with AND"
   ]
  },
  {
   "cell_type": "code",
   "execution_count": 20,
   "id": "32251ec3-c7d6-4155-87ce-3943e5e36a39",
   "metadata": {},
   "outputs": [],
   "source": [
    "X = np.array([[0,0],[0,1],[1,0],[1,1]])\n",
    "y = np.array([0,0,0,1])"
   ]
  },
  {
   "cell_type": "code",
   "execution_count": 21,
   "id": "61396609-364d-4975-a1b6-de7b4b847fc9",
   "metadata": {},
   "outputs": [
    {
     "data": {
      "text/plain": [
       "((4, 2), (4,))"
      ]
     },
     "execution_count": 21,
     "metadata": {},
     "output_type": "execute_result"
    }
   ],
   "source": [
    "X.shape, y.shape"
   ]
  },
  {
   "cell_type": "code",
   "execution_count": 22,
   "id": "aeea47dc-86e8-4e8c-9264-e5cfe06aa228",
   "metadata": {},
   "outputs": [
    {
     "data": {
      "text/plain": [
       "array([[0, 0],\n",
       "       [0, 1],\n",
       "       [1, 0],\n",
       "       [1, 1]])"
      ]
     },
     "execution_count": 22,
     "metadata": {},
     "output_type": "execute_result"
    }
   ],
   "source": [
    "X"
   ]
  },
  {
   "cell_type": "code",
   "execution_count": 23,
   "id": "840f3c28-c830-4209-bdd1-69d9e59ca8b1",
   "metadata": {},
   "outputs": [
    {
     "data": {
      "text/plain": [
       "array([0, 0, 0, 1])"
      ]
     },
     "execution_count": 23,
     "metadata": {},
     "output_type": "execute_result"
    }
   ],
   "source": [
    "y"
   ]
  },
  {
   "cell_type": "code",
   "execution_count": 37,
   "id": "064ccced-2b0f-4934-852f-533bbc0151cb",
   "metadata": {},
   "outputs": [],
   "source": [
    "D = X.shape[1]\n",
    "w = 2*np.random.random(size=D)-1\n",
    "b = 2*np.random.random()-1\n",
    "learning_rate = 1e-2\n",
    "\n",
    "epochs = 100"
   ]
  },
  {
   "cell_type": "code",
   "execution_count": 38,
   "id": "200e6056-72bd-4717-8dbc-8d170e06b23c",
   "metadata": {},
   "outputs": [],
   "source": [
    "# Linear Function\n",
    "def linear(x, derivate=False):\n",
    "\n",
    "    if derivate:\n",
    "        return x\n",
    "    else:\n",
    "        return 1 if x > 0 else 0"
   ]
  },
  {
   "cell_type": "code",
   "execution_count": 39,
   "id": "c482d63e-f68d-42ec-bc26-cf627d733a1f",
   "metadata": {},
   "outputs": [
    {
     "name": "stdout",
     "output_type": "stream",
     "text": [
      "Epoch: 0 Cost: 4.909280760206318\n",
      "Epoch: 10 Cost: 2.0721678900178233\n",
      "Epoch: 20 Cost: 1.2193704323817918\n",
      "Epoch: 30 Cost: 0.9211582581750661\n",
      "Epoch: 40 Cost: 0.7838191037713826\n",
      "Epoch: 50 Cost: 0.6982955582763136\n",
      "Epoch: 60 Cost: 0.6337074059873615\n",
      "Epoch: 70 Cost: 0.5806846029785186\n",
      "Epoch: 80 Cost: 0.5358424951117096\n",
      "Epoch: 90 Cost: 0.49753435712598515\n",
      "W:  [0.07502071 0.38898274]\n",
      "b:  0.07266529224781164\n",
      "leanring_rate:  0.01\n"
     ]
    }
   ],
   "source": [
    "for epoch in range(epochs):\n",
    "    cost = 0\n",
    "    for x_n, y_n in zip(X,y):\n",
    "        y_pred = np.dot(x_n, w) + b\n",
    "        y_pred = linear(y_pred, derivate=True)\n",
    "        error = y_n - y_pred\n",
    "        w = w + learning_rate*np.dot(error, x_n)\n",
    "        b = b + error*learning_rate\n",
    "        cost += error**2\n",
    "        \n",
    "    if epoch%10 == 0:\n",
    "        print(f'Epoch: {epoch} Cost: {cost}')\n",
    "\n",
    "print('W: ', w)\n",
    "print('b: ', b)\n",
    "print('leanring_rate: ', learning_rate)"
   ]
  },
  {
   "cell_type": "code",
   "execution_count": null,
   "id": "26b7863d-26ce-423d-adca-5402e5d70587",
   "metadata": {},
   "outputs": [],
   "source": []
  }
 ],
 "metadata": {
  "kernelspec": {
   "display_name": "Python 3 (ipykernel)",
   "language": "python",
   "name": "python3"
  },
  "language_info": {
   "codemirror_mode": {
    "name": "ipython",
    "version": 3
   },
   "file_extension": ".py",
   "mimetype": "text/x-python",
   "name": "python",
   "nbconvert_exporter": "python",
   "pygments_lexer": "ipython3",
   "version": "3.11.10"
  }
 },
 "nbformat": 4,
 "nbformat_minor": 5
}
