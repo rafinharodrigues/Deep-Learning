{
 "cells": [
  {
   "cell_type": "code",
   "execution_count": 10,
   "id": "f657429b-454f-4761-aeff-a28a668fa44a",
   "metadata": {},
   "outputs": [],
   "source": [
    "import numpy as np\n",
    "import pandas as pd"
   ]
  },
  {
   "cell_type": "markdown",
   "id": "949ea85d-efaa-4147-a2f4-9bd6ed24abfd",
   "metadata": {},
   "source": [
    "### Example with a custom hight and weight dataset"
   ]
  },
  {
   "cell_type": "code",
   "execution_count": 11,
   "id": "b37e5cb1-096b-4d5a-b9e4-88e374090d36",
   "metadata": {},
   "outputs": [
    {
     "data": {
      "text/html": [
       "<div>\n",
       "<style scoped>\n",
       "    .dataframe tbody tr th:only-of-type {\n",
       "        vertical-align: middle;\n",
       "    }\n",
       "\n",
       "    .dataframe tbody tr th {\n",
       "        vertical-align: top;\n",
       "    }\n",
       "\n",
       "    .dataframe thead th {\n",
       "        text-align: right;\n",
       "    }\n",
       "</style>\n",
       "<table border=\"1\" class=\"dataframe\">\n",
       "  <thead>\n",
       "    <tr style=\"text-align: right;\">\n",
       "      <th></th>\n",
       "      <th>Altura (cm)</th>\n",
       "      <th>Peso (kg)</th>\n",
       "    </tr>\n",
       "  </thead>\n",
       "  <tbody>\n",
       "    <tr>\n",
       "      <th>0</th>\n",
       "      <td>188</td>\n",
       "      <td>80.60</td>\n",
       "    </tr>\n",
       "    <tr>\n",
       "      <th>1</th>\n",
       "      <td>178</td>\n",
       "      <td>78.10</td>\n",
       "    </tr>\n",
       "    <tr>\n",
       "      <th>2</th>\n",
       "      <td>164</td>\n",
       "      <td>63.80</td>\n",
       "    </tr>\n",
       "    <tr>\n",
       "      <th>3</th>\n",
       "      <td>192</td>\n",
       "      <td>87.40</td>\n",
       "    </tr>\n",
       "    <tr>\n",
       "      <th>4</th>\n",
       "      <td>157</td>\n",
       "      <td>67.65</td>\n",
       "    </tr>\n",
       "    <tr>\n",
       "      <th>...</th>\n",
       "      <td>...</td>\n",
       "      <td>...</td>\n",
       "    </tr>\n",
       "    <tr>\n",
       "      <th>95</th>\n",
       "      <td>190</td>\n",
       "      <td>91.50</td>\n",
       "    </tr>\n",
       "    <tr>\n",
       "      <th>96</th>\n",
       "      <td>178</td>\n",
       "      <td>86.10</td>\n",
       "    </tr>\n",
       "    <tr>\n",
       "      <th>97</th>\n",
       "      <td>164</td>\n",
       "      <td>64.80</td>\n",
       "    </tr>\n",
       "    <tr>\n",
       "      <th>98</th>\n",
       "      <td>194</td>\n",
       "      <td>78.30</td>\n",
       "    </tr>\n",
       "    <tr>\n",
       "      <th>99</th>\n",
       "      <td>150</td>\n",
       "      <td>61.50</td>\n",
       "    </tr>\n",
       "  </tbody>\n",
       "</table>\n",
       "<p>100 rows × 2 columns</p>\n",
       "</div>"
      ],
      "text/plain": [
       "    Altura (cm)  Peso (kg)\n",
       "0           188      80.60\n",
       "1           178      78.10\n",
       "2           164      63.80\n",
       "3           192      87.40\n",
       "4           157      67.65\n",
       "..          ...        ...\n",
       "95          190      91.50\n",
       "96          178      86.10\n",
       "97          164      64.80\n",
       "98          194      78.30\n",
       "99          150      61.50\n",
       "\n",
       "[100 rows x 2 columns]"
      ]
     },
     "execution_count": 11,
     "metadata": {},
     "output_type": "execute_result"
    }
   ],
   "source": [
    "data = pd.read_csv('altura_peso_dataset.csv')\n",
    "data"
   ]
  },
  {
   "cell_type": "code",
   "execution_count": 12,
   "id": "843fb57e-7ec2-4140-b39c-16708db870af",
   "metadata": {},
   "outputs": [],
   "source": [
    "X = data.iloc[:,0].values\n",
    "y = data.iloc[:,1].values"
   ]
  },
  {
   "cell_type": "code",
   "execution_count": 13,
   "id": "69409433-19ee-4218-a6eb-a30097550731",
   "metadata": {},
   "outputs": [],
   "source": [
    "from sklearn.preprocessing import MinMaxScaler\n",
    "scaler = MinMaxScaler((-1,1))\n",
    "X_scaled = scaler.fit_transform(X.reshape(-1, 1))"
   ]
  },
  {
   "cell_type": "code",
   "execution_count": 14,
   "id": "7a2dd136-c5e7-4738-afe3-5980fecea0d4",
   "metadata": {},
   "outputs": [],
   "source": [
    "# Leaky Relu Activation Function\n",
    "def leaky_relu(x, derivate=False):\n",
    "    alpha = 0.1\n",
    "    if derivate:\n",
    "        return np.where(x<=0,alpha,1)\n",
    "\n",
    "    return np.where(x<=0, alpha*x, x)"
   ]
  },
  {
   "cell_type": "code",
   "execution_count": 15,
   "id": "ab52b9d9-33bf-4939-90d8-673054b7eed8",
   "metadata": {},
   "outputs": [],
   "source": [
    "D = X_scaled.shape[1]\n",
    "w = 2*np.random.random(size=D)-1\n",
    "b = 2*np.random.random()-1\n",
    "lr = 1e-2\n",
    "epochs = 2000"
   ]
  },
  {
   "cell_type": "code",
   "execution_count": 16,
   "id": "3950ad89-edfb-4c06-84c1-f261523a0a99",
   "metadata": {},
   "outputs": [
    {
     "name": "stdout",
     "output_type": "stream",
     "text": [
      "Epoch: 0 Cost: 268617.2813631757\n",
      "Epoch: 100 Cost: 3387.2162738626403\n",
      "Epoch: 200 Cost: 3387.2162738626403\n",
      "Epoch: 300 Cost: 3387.2162738626403\n",
      "Epoch: 400 Cost: 3387.2162738626403\n",
      "Epoch: 500 Cost: 3387.2162738626403\n",
      "Epoch: 600 Cost: 3387.2162738626403\n",
      "Epoch: 700 Cost: 3387.2162738626403\n",
      "Epoch: 800 Cost: 3387.2162738626403\n",
      "Epoch: 900 Cost: 3387.2162738626403\n",
      "Epoch: 1000 Cost: 3387.2162738626403\n",
      "Epoch: 1100 Cost: 3387.2162738626403\n",
      "Epoch: 1200 Cost: 3387.2162738626403\n",
      "Epoch: 1300 Cost: 3387.2162738626403\n",
      "Epoch: 1400 Cost: 3387.2162738626403\n",
      "Epoch: 1500 Cost: 3387.2162738626403\n",
      "Epoch: 1600 Cost: 3387.2162738626403\n",
      "Epoch: 1700 Cost: 3387.2162738626403\n",
      "Epoch: 1800 Cost: 3387.2162738626403\n",
      "Epoch: 1900 Cost: 3387.2162738626403\n",
      "W: [11.95492043]\n",
      "B: 77.51756100609074\n",
      "LR: 0.01\n"
     ]
    }
   ],
   "source": [
    "for epoch in range(epochs):\n",
    "    cost = 0\n",
    "    for x_n, y_n in zip(X_scaled, y):\n",
    "        y_pred = np.dot(x_n, w) + b\n",
    "        y_pred = leaky_relu(y_pred, derivate=False)\n",
    "        error = y_n - y_pred\n",
    "        w = w + lr*np.dot(error, x_n)\n",
    "        b = b + error*lr\n",
    "        cost += error**2\n",
    "\n",
    "    if epoch%100 == 0:\n",
    "        print(f'Epoch: {epoch} Cost: {cost}')\n",
    "\n",
    "print(f'W: {w}')\n",
    "print(f'B: {b}')\n",
    "print(f'LR: {lr}')"
   ]
  },
  {
   "cell_type": "code",
   "execution_count": null,
   "id": "e5fe50c3-6d59-41cb-bab5-a252a3fb1653",
   "metadata": {},
   "outputs": [],
   "source": []
  }
 ],
 "metadata": {
  "kernelspec": {
   "display_name": "Python 3 (ipykernel)",
   "language": "python",
   "name": "python3"
  },
  "language_info": {
   "codemirror_mode": {
    "name": "ipython",
    "version": 3
   },
   "file_extension": ".py",
   "mimetype": "text/x-python",
   "name": "python",
   "nbconvert_exporter": "python",
   "pygments_lexer": "ipython3",
   "version": "3.11.10"
  }
 },
 "nbformat": 4,
 "nbformat_minor": 5
}
