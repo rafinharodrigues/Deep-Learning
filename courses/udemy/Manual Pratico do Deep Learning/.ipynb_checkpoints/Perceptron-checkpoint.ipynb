{
 "cells": [
  {
   "cell_type": "markdown",
   "id": "242c548b-2e05-4c68-87a6-3d22b8d444d8",
   "metadata": {},
   "source": [
    "# The objective of this notebook is to implement a Perceptron"
   ]
  },
  {
   "cell_type": "code",
   "execution_count": 3,
   "id": "fb3aa085-efdd-4c63-9401-d19b9b8ac3f9",
   "metadata": {},
   "outputs": [],
   "source": [
    "from random import random\n",
    "import numpy as np"
   ]
  },
  {
   "cell_type": "markdown",
   "id": "af7683de-15dc-4e2e-acb8-ca734f018c60",
   "metadata": {},
   "source": [
    "### Building a Perceptron to predict the AND "
   ]
  },
  {
   "cell_type": "code",
   "execution_count": 256,
   "id": "1748af5a-f2af-4e04-a1f7-ad4e405c2bd3",
   "metadata": {},
   "outputs": [],
   "source": [
    "# Split the data into features and label\n",
    "X = np.array([[0, 0], [0, 1], [1, 0], [1, 1]])\n",
    "y = np.array([0, 0, 0, 1])"
   ]
  },
  {
   "cell_type": "code",
   "execution_count": 257,
   "id": "6f3055e5-de49-4b60-b409-22c0bad830ae",
   "metadata": {},
   "outputs": [
    {
     "data": {
      "text/plain": [
       "array([[0, 0],\n",
       "       [0, 1],\n",
       "       [1, 0],\n",
       "       [1, 1]])"
      ]
     },
     "execution_count": 257,
     "metadata": {},
     "output_type": "execute_result"
    }
   ],
   "source": [
    "X"
   ]
  },
  {
   "cell_type": "code",
   "execution_count": 258,
   "id": "3b4fe3b5-885f-4f8b-a698-e20d4d79a8c6",
   "metadata": {},
   "outputs": [
    {
     "data": {
      "text/plain": [
       "array([0, 0, 0, 1])"
      ]
     },
     "execution_count": 258,
     "metadata": {},
     "output_type": "execute_result"
    }
   ],
   "source": [
    "y"
   ]
  },
  {
   "cell_type": "code",
   "execution_count": 259,
   "id": "ab2395eb-44dc-48bb-8777-04a736d544ee",
   "metadata": {},
   "outputs": [],
   "source": [
    "# Initialize the weight and bias with random numbers\n",
    "D = X.shape[1]\n",
    "w = [2*random()-1 for i in range(D)]\n",
    "b = 2*random()-1\n",
    "learning_rate = 1.0\n",
    "epochs = 101"
   ]
  },
  {
   "cell_type": "code",
   "execution_count": 260,
   "id": "39e35402-4c75-40b1-abc3-69bacd5f21ca",
   "metadata": {},
   "outputs": [
    {
     "name": "stdout",
     "output_type": "stream",
     "text": [
      "0 2 [0.8981550960628657, 1.149045159888619]\n",
      "10 0 [1.8981550960628657, 0.1490451598886191]\n",
      "20 0 [1.8981550960628657, 0.1490451598886191]\n",
      "30 0 [1.8981550960628657, 0.1490451598886191]\n",
      "40 0 [1.8981550960628657, 0.1490451598886191]\n",
      "50 0 [1.8981550960628657, 0.1490451598886191]\n",
      "60 0 [1.8981550960628657, 0.1490451598886191]\n",
      "70 0 [1.8981550960628657, 0.1490451598886191]\n",
      "80 0 [1.8981550960628657, 0.1490451598886191]\n",
      "90 0 [1.8981550960628657, 0.1490451598886191]\n",
      "100 0 [1.8981550960628657, 0.1490451598886191]\n",
      "\n",
      "w: [1.8981550960628657, 0.1490451598886191]\n",
      "b:-1.970926676435431\n"
     ]
    }
   ],
   "source": [
    "for epoch in range(epochs):\n",
    "    cost = 0\n",
    "    for Xn, yn in zip(X, y):\n",
    "        # First step: Multiply each feature to it's weight, sum the results and then sum the result with bias\n",
    "        y_pred = sum([xi*wi for xi, wi in zip(Xn, w)]) + b\n",
    "    \n",
    "        # Second step: Use the activation funtion (step function)\n",
    "        y_pred = 1 if y_pred > 0 else 0\n",
    "    \n",
    "        # Third step: Calculate the error\n",
    "        error = yn - y_pred\n",
    "    \n",
    "        # Fourth step: Update the weight's\n",
    "        w = [wi+learning_rate*error*xi for xi, wi in zip(Xn,w)]\n",
    "        b = b + learning_rate*error\n",
    "        cost += error**2\n",
    "\n",
    "    # Print the epoch and cost every 10 epochs\n",
    "    if epoch % 10 == 0:\n",
    "        print(epoch, cost, w)\n",
    "print(f'\\nw: {w}\\nb:{b}')"
   ]
  },
  {
   "cell_type": "markdown",
   "id": "f8324326-a7dc-4857-9aba-d74fd5f01cbc",
   "metadata": {},
   "source": [
    "### Optimizing with Numpy"
   ]
  },
  {
   "cell_type": "code",
   "execution_count": 4,
   "id": "109a8af7-efc5-45a0-a6fa-b26cb6454f40",
   "metadata": {},
   "outputs": [],
   "source": [
    "X = np.array([[0, 0], [0, 1], [1, 0], [1, 1]])\n",
    "y = np.array([0, 0, 0, 1])"
   ]
  },
  {
   "cell_type": "code",
   "execution_count": 5,
   "id": "61016784-ee33-4b33-9035-efbd7d384cd5",
   "metadata": {},
   "outputs": [],
   "source": [
    "D = X.shape[1]\n",
    "w = np.random.random(size=D)\n",
    "b = np.random.random()\n",
    "lr = 1e-2\n",
    "epochs = 100"
   ]
  },
  {
   "cell_type": "code",
   "execution_count": 6,
   "id": "10c13ac1-e8ec-4a61-bb0a-e8be977c21e7",
   "metadata": {},
   "outputs": [
    {
     "name": "stdout",
     "output_type": "stream",
     "text": [
      "0 3 [0.06240742 0.16148994]\n",
      "10 3 [-0.03759258  0.06148994]\n",
      "20 3 [-0.00759258  0.02148994]\n",
      "30 0 [0.01240742 0.01148994]\n",
      "40 0 [0.01240742 0.01148994]\n",
      "50 0 [0.01240742 0.01148994]\n",
      "60 0 [0.01240742 0.01148994]\n",
      "70 0 [0.01240742 0.01148994]\n",
      "80 0 [0.01240742 0.01148994]\n",
      "90 0 [0.01240742 0.01148994]\n",
      "\n",
      "w: [0.01240742 0.01148994]\n",
      "b:-0.018399183596262206\n"
     ]
    }
   ],
   "source": [
    "for epoch in range(epochs):\n",
    "    cost = 0\n",
    "    for x_n, y_n in zip(X, y):\n",
    "        y_pred = np.dot(x_n, w) + b\n",
    "        y_pred = np.where(y_pred > 0, 1, 0)\n",
    "        error = y_n - y_pred\n",
    "        w = w + lr * np.dot(error, x_n)\n",
    "        b = b + error * lr\n",
    "        cost += error**2\n",
    "    if epoch % 10 == 0:\n",
    "        print(epoch, cost, w)\n",
    "print(f'\\nw: {w}\\nb:{b}')        "
   ]
  },
  {
   "cell_type": "markdown",
   "id": "d1ae5f3e-2d2c-44f6-aa9f-083580c1c004",
   "metadata": {},
   "source": [
    "### Perceptron update to be a regressor\n",
    "* Just remove the activation function line"
   ]
  },
  {
   "cell_type": "code",
   "execution_count": 10,
   "id": "0b283d8a-000e-4de7-b925-d5de3ca63db0",
   "metadata": {},
   "outputs": [],
   "source": [
    "X = np.array([[0, 0], [0, 1], [1, 0], [1, 1]])\n",
    "y = np.array([0, 0, 0, 1])"
   ]
  },
  {
   "cell_type": "code",
   "execution_count": 11,
   "id": "37213b8c-0f5f-40f2-a712-b4dc8300f81d",
   "metadata": {},
   "outputs": [],
   "source": [
    "D = X.shape[1]\n",
    "w = np.random.random(size=D)\n",
    "b = np.random.random()\n",
    "lr = 1e-2\n",
    "epochs = 100"
   ]
  },
  {
   "cell_type": "code",
   "execution_count": 12,
   "id": "38493a13-495c-498c-99a2-4224870075a1",
   "metadata": {},
   "outputs": [
    {
     "name": "stdout",
     "output_type": "stream",
     "text": [
      "0 2.6246756871691774 [0.03370629 0.21199638]\n",
      "10 1.3955403211600896 [-0.02193594  0.13846569]\n",
      "20 0.9950029829875032 [-0.03278135  0.11165285]\n",
      "30 0.8318286792171865 [-0.02136088  0.10874883]\n",
      "40 0.7412441971390991 [0.00058972 0.11781077]\n",
      "50 0.6765751702000815 [0.02699295 0.13259723]\n",
      "60 0.6240389129320962 [0.05473455 0.14985796]\n",
      "70 0.5791294147990624 [0.08224973 0.16791168]\n",
      "80 0.5400346343273207 [0.10878173 0.1858997 ]\n",
      "90 0.5057803028643219 [0.13399317 0.20339426]\n",
      "\n",
      "w: [0.15545126 0.21854745]\n",
      "b:0.12899997402804586\n"
     ]
    }
   ],
   "source": [
    "for epoch in range(epochs):\n",
    "    cost = 0\n",
    "    for x_n, y_n in zip(X, y):\n",
    "        y_pred = np.dot(x_n, w) + b\n",
    "        # y_pred = np.where(y_pred > 0, 1, 0)\n",
    "        error = y_n - y_pred\n",
    "        w = w + lr * np.dot(error, x_n)\n",
    "        b = b + error * lr\n",
    "        cost += error**2\n",
    "    if epoch % 10 == 0:\n",
    "        print(epoch, cost, w)\n",
    "print(f'\\nw: {w}\\nb:{b}')        "
   ]
  },
  {
   "cell_type": "code",
   "execution_count": null,
   "id": "f19a438d-d2de-41d0-8f14-4f90070fd39d",
   "metadata": {},
   "outputs": [],
   "source": []
  }
 ],
 "metadata": {
  "kernelspec": {
   "display_name": "Python 3 (ipykernel)",
   "language": "python",
   "name": "python3"
  },
  "language_info": {
   "codemirror_mode": {
    "name": "ipython",
    "version": 3
   },
   "file_extension": ".py",
   "mimetype": "text/x-python",
   "name": "python",
   "nbconvert_exporter": "python",
   "pygments_lexer": "ipython3",
   "version": "3.11.10"
  }
 },
 "nbformat": 4,
 "nbformat_minor": 5
}
